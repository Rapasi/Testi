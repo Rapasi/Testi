{
 "cells": [
  {
   "cell_type": "code",
   "execution_count": 9,
   "metadata": {
    "scrolled": true
   },
   "outputs": [],
   "source": [
    "import tkinter as tk\n",
    "import requests\n",
    "from tkinter import font\n",
    "Height=1200\n",
    "Width=1500\n",
    "\n",
    "def format_response(tietoja):\n",
    "    try:\n",
    "        nimi=tietoja['result'][0]['description']\n",
    "        symboli=tietoja['result'][0]['symbol']\n",
    "        final='Nimi: %s \\nSymboli: %s' % (nimi,symboli) \n",
    "    except:\n",
    "        final='Tietoja ei löytynyt'     \n",
    "    return final\n",
    "    \n",
    "    \n",
    "def get_stocks(osake):\n",
    "    api_key='c0in7t748v6v78078osg'\n",
    "    url='https://finnhub.io/api/v1/search'\n",
    "    response=requests.get(url)\n",
    "    params={'token':api_key,'q':osake}\n",
    "    response=requests.get(url,params=params)\n",
    "    tietoja=response.json()\n",
    "    print(tietoja['result'][0]['description'])\n",
    "    print(tietoja['result'][0]['symbol'])\n",
    "    \n",
    "    label['text']=format_response(tietoja)\n",
    "root=tk.Tk()\n",
    "\n",
    "canvas=tk.Canvas(root,height=Height,width=Width)\n",
    "canvas.pack()\n",
    "\n",
    "background=tk.PhotoImage(file='Osake.png')\n",
    "background_label=tk.Label(root,image=background)\n",
    "background_label.place(x=0,y=0,relwidth=1,relheight=1)\n",
    "\n",
    "frame=tk.Frame(root,bg='#80c5ff',bd=5)\n",
    "frame.place(relx=0.5,rely=0.1,relwidth=.75,relheight=.1,anchor='n')\n",
    "\n",
    "entry=tk.Entry(frame,font=('Courier',22))\n",
    "entry.place(relwidth=0.65,relheight=1)\n",
    "\n",
    "button=tk.Button(frame,text='Osakkeen tiedot',font=('Courier',12),command=lambda: get_stocks(entry.get()))\n",
    "button.place(relx=.7,relwidth=.3,relheight=1)\n",
    "\n",
    "lower_frame=tk.Frame(root,bg='#80c5ff',bd=5)\n",
    "lower_frame.place(relx=0.5,rely=0.25,relwidth=.75,relheight=.6,anchor='n')\n",
    "\n",
    "label=tk.Label(lower_frame,font=('Courier',22),anchor='nw',justify='left',bd=4)\n",
    "label.place(relwidth=1,relheight=1)\n",
    "\n",
    "root.mainloop()"
   ]
  }
 ],
 "metadata": {
  "kernelspec": {
   "display_name": "Python 3",
   "language": "python",
   "name": "python3"
  },
  "language_info": {
   "codemirror_mode": {
    "name": "ipython",
    "version": 3
   },
   "file_extension": ".py",
   "mimetype": "text/x-python",
   "name": "python",
   "nbconvert_exporter": "python",
   "pygments_lexer": "ipython3",
   "version": "3.8.3"
  }
 },
 "nbformat": 4,
 "nbformat_minor": 4
}
